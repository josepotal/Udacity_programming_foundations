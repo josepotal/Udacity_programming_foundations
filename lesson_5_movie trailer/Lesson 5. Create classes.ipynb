{
 "cells": [
  {
   "cell_type": "markdown",
   "metadata": {},
   "source": [
    "### We are to create a class 'Movie' for our movie website\n",
    "\n",
    "- Some concepts follow:\n",
    "    - Class\n",
    "    - Instance\n",
    "    - Constructor\n",
    "    - self: is the object being created, so then it points to the object itself\n",
    "    - variables\n",
    "    - instance variables, particular variables of each instance\n",
    "    - instance method  \n",
    " <img src ='Vocab.png'>"
   ]
  },
  {
   "cell_type": "code",
   "execution_count": 2,
   "metadata": {
    "collapsed": true
   },
   "outputs": [],
   "source": [
    "# file that defines the Class (keep it here) --> 'media.py'\n",
    "import webbrowser\n",
    "\n",
    "class Movie():\n",
    "    def __init__(self, movie_title, movie_storyline, poster_image, trailer_youtube):\n",
    "        self.title = movie_title\n",
    "        self.storyline = movie_storyline\n",
    "        self.poster_image_url = poster_image\n",
    "        self.trailer_youtube_url = trailer_youtube\n",
    "        \n",
    "    def show_trailer(self):\n",
    "        webbrowser.open(self.trailer_youtube_url)\n"
   ]
  },
  {
   "cell_type": "code",
   "execution_count": null,
   "metadata": {
    "collapsed": true
   },
   "outputs": [],
   "source": []
  },
  {
   "cell_type": "code",
   "execution_count": 5,
   "metadata": {
    "collapsed": true
   },
   "outputs": [],
   "source": [
    "# file to use my new class 'Movie' --> 'entertainment_center.py'\n",
    "# 'media' is the file name where I created the class Movie\n",
    "# all films are instances of Class 'Movie' [toy_story, avatar, moneyball, the_martian...]\n",
    "\n",
    "import media\n",
    "\n",
    "toy_story = media.Movie(\"Toy Story\",\n",
    "                        \"A story of a boy and his toys that come to life\",\n",
    "                        \"http://ecx.images-amazon.com/images/I/51NpxQ0ma8L.jpg\",\n",
    "                        \"https://www.youtube.com/watch?v=KYz2wyBy3kc\")\n",
    "#print toy_story.storyline\n",
    "\n",
    "avatar = media.Movie (\"Avatar\",\n",
    "                      \"A marine in an alien planet\",\n",
    "                      \"http://img.goldposter.com/2015/05/Avatar_poster_goldposter_com_10.jpg\",\n",
    "                      \"https://www.youtube.com/watch?v=5PSNL1qE6VY\")\n",
    "#print avatar.storyline\n",
    "#avatar.show_trailer()\n",
    "\n",
    "inside_out = media.Movie(\"Inside_Out\",\n",
    "                         \"Feelings explained\",\n",
    "                         \"http://screenrant.com/wp-content/uploads/inside-out-poster.jpg\",\n",
    "                         \"https://www.youtube.com/watch?v=7ZLOYXKmIkw\")\n",
    "\n",
    "moneyball = media.Movie(\"Moneyball\",\n",
    "                        \"Stadistics applied to baseball\",\n",
    "                        \"http://cdn.collider.com/wp-content/uploads/moneyball-poster.jpg\",\n",
    "                        \"https://www.youtube.com/watch?v=-4QPVo0UIzc\")\n",
    "#moneyball.show_trailer()\n",
    "\n",
    "the_martian = media.Movie(\"The_Martian\",\n",
    "                          \"An astronaust alone in Mars\",\n",
    "                          \"http://vignette1.wikia.nocookie.net/the-martian/images/5/52/The_Martian_poster_3.jpg/revision/latest?cb=20150923000824\",\n",
    "                          \"https://www.youtube.com/watch?v=ej3ioOneTy8\")\n"
   ]
  },
  {
   "cell_type": "code",
   "execution_count": null,
   "metadata": {
    "collapsed": true
   },
   "outputs": [],
   "source": [
    "# 'fresh_tomatoes.py' is a file with a function called 'open_movies_page'\n",
    "\n",
    "import fresh_tomatoes\n",
    "\n",
    "# create a list of movies\n",
    "movies = [toy_story, avatar, inside_out, moneyball, the_martian]\n",
    "\n",
    "# open the page thanks to 'fresh_tomatoes'\n",
    "fresh_tomatoes.open_movies_page(movies)"
   ]
  }
 ],
 "metadata": {
  "kernelspec": {
   "display_name": "Python 2",
   "language": "python",
   "name": "python2"
  },
  "language_info": {
   "codemirror_mode": {
    "name": "ipython",
    "version": 2
   },
   "file_extension": ".py",
   "mimetype": "text/x-python",
   "name": "python",
   "nbconvert_exporter": "python",
   "pygments_lexer": "ipython2",
   "version": "2.7.11+"
  }
 },
 "nbformat": 4,
 "nbformat_minor": 0
}
