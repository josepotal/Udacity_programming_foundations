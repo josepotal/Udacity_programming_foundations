{
 "cells": [
  {
   "cell_type": "markdown",
   "metadata": {},
   "source": [
    "#### How to read text files with python?\n",
    "- Using the built-in fruntion 'open': the function 'open' is a built in function of the stardand python library\n",
    "- 'open' function returns an 'object' of the file type that we named 'quotes'\n",
    "\n",
    "### 'urllib' helps to access data from the internet\n",
    " - the fucntion urlopen takes the link to hte website"
   ]
  },
  {
   "cell_type": "code",
   "execution_count": 15,
   "metadata": {
    "collapsed": false
   },
   "outputs": [],
   "source": [
    "def read_text():\n",
    "    quotes = open (\"/home/josep/Dropbox/UDACITY/Programming foundations/lesson_4_profanity_words/movie_quotes.txt\")\n",
    "    contents = quotes.read()\n",
    "    print (contents)\n",
    "    quotes.close()\n",
    "    check_profanity(contents)  ## 'check_profanity' is the function created below"
   ]
  },
  {
   "cell_type": "code",
   "execution_count": 17,
   "metadata": {
    "collapsed": false
   },
   "outputs": [
    {
     "name": "stdout",
     "output_type": "stream",
     "text": [
      "-- Houston, we have a problem. (Apollo 13)\n",
      "\n",
      "-- Mama always said, life is like a box of chocolates. You never know what you are going to get. (Forrest Gump)\n",
      "\n",
      "-- You cant handle the truth. (A Few Good Men)\n",
      "\n",
      "-- I believe everything and I believe nothing. (A Shot in the Dark)\n",
      "false\n",
      "This document has no curse words!\n"
     ]
    }
   ],
   "source": [
    "import urllib\n",
    "\n",
    "def check_profanity(text_to_check):\n",
    "    connection = urllib.urlopen('http://www.wdylike.appspot.com/?q=' + text_to_check)\n",
    "    output = connection.read()\n",
    "    print(output)\n",
    "    connection.close()\n",
    "    if 'true' in output:\n",
    "        print ('Profanity Alert!!')\n",
    "    elif 'false' in output:\n",
    "        print ('This document has no curse words!')\n",
    "    else:\n",
    "        print('Could not scan the document properly')\n",
    "    \n",
    "read_text()"
   ]
  },
  {
   "cell_type": "code",
   "execution_count": null,
   "metadata": {
    "collapsed": true
   },
   "outputs": [],
   "source": [
    "    \n"
   ]
  }
 ],
 "metadata": {
  "kernelspec": {
   "display_name": "Python 2",
   "language": "python",
   "name": "python2"
  },
  "language_info": {
   "codemirror_mode": {
    "name": "ipython",
    "version": 2
   },
   "file_extension": ".py",
   "mimetype": "text/x-python",
   "name": "python",
   "nbconvert_exporter": "python",
   "pygments_lexer": "ipython2",
   "version": "2.7.11+"
  }
 },
 "nbformat": 4,
 "nbformat_minor": 0
}
