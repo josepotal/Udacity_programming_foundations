{
 "cells": [
  {
   "cell_type": "markdown",
   "metadata": {},
   "source": [
    "# [EXERCISE 1] --> Take a break"
   ]
  },
  {
   "cell_type": "markdown",
   "metadata": {},
   "source": [
    "#### We want to open a video in the browser"
   ]
  },
  {
   "cell_type": "code",
   "execution_count": 3,
   "metadata": {
    "collapsed": false
   },
   "outputs": [
    {
     "name": "stdout",
     "output_type": "stream",
     "text": [
      "This program started atFri Jun 10 23:24:24 2016\n"
     ]
    }
   ],
   "source": [
    "import time                                                         # module in python standard library\n",
    "import webbrowser                                                   # module in python standard library\n",
    "\n",
    "total_breaks= 3\n",
    "break_count=0\n",
    "\n",
    "print (\"This program started at\" + time.ctime())                     # ctime function--> current time of computer\n",
    "while (break_count < total_breaks):\n",
    "    time.sleep (10)                                                  # sleep function suspends the program for 10 seconds\n",
    "    webbrowser.open (\"https://www.youtube.com/watch?v=nhZLCDA5Jv4\")  # open function --> the browser\n",
    "    break_count= break_count+1"
   ]
  },
  {
   "cell_type": "markdown",
   "metadata": {},
   "source": [
    "### image of how python looks like\n",
    "<img src = 'Py_standard_lib.png'>"
   ]
  },
  {
   "cell_type": "markdown",
   "metadata": {},
   "source": [
    "### What is abstraction? \n",
    "\n",
    "- Abstracting something means to give names to things, so that the name captures the core of what a function or a whole program does.i.e: house, village, city ('http://stackoverflow.com/questions/21220155/what-does-abstraction-mean-in-programming')\n",
    "- Hiding the details of the functions"
   ]
  },
  {
   "cell_type": "markdown",
   "metadata": {},
   "source": [
    "## [EXERCISE 2] Rename files\n",
    "\n",
    "#### "
   ]
  },
  {
   "cell_type": "code",
   "execution_count": 6,
   "metadata": {
    "collapsed": false
   },
   "outputs": [
    {
     "name": "stdout",
     "output_type": "stream",
     "text": [
      "['rochester.jpg', 'hyderabad.jpg', 'chicago.jpg', 'san jose.jpg', 'dallas.jpg', 'chennai.jpg', 'ithaca.jpg', 'athens.jpg', 'bristol.jpg', 'sydney.jpg', 'cairo.jpg', 'buenos aires.jpg', 'berkeley.jpg', 'shanghai.jpg', 'san diego.jpg', 'edinbrugh.jpg', 'sao paulo.jpg', 'los angeles.jpg', 'london.jpg', 'austin.jpg', 'beijing.jpg', 'jacksonville.jpg', 'bucharest.jpg', 'gainesville.jpg', 'singapore.jpg', 'kiev.jpg', 'sunnyvale.jpg', 'new york.jpg', 'seattle.jpg', 'tel aviv.jpg', 'barcelona.jpg', 'bangalore.jpg', 'madrid.jpg', 'istanbul.jpg', 'manchester.jpg', 'colombo.jpg', 'pune.jpg', 'delhi.jpg', 'houston.jpg', 'miami.jpg', 'karachi.jpg', 'seoul.jpg', 'oakland.jpg', 'bogota.jpg']\n",
      "Current working directory is /home/josep/Dropbox/UDACITY/Programming foundations/lesson_1_functions\n",
      "['rochester.jpg', 'hyderabad.jpg', 'chicago.jpg', 'san jose.jpg', 'dallas.jpg', 'chennai.jpg', 'ithaca.jpg', 'athens.jpg', 'bristol.jpg', 'sydney.jpg', 'cairo.jpg', 'buenos aires.jpg', 'berkeley.jpg', 'shanghai.jpg', 'san diego.jpg', 'edinbrugh.jpg', 'sao paulo.jpg', 'los angeles.jpg', 'london.jpg', 'austin.jpg', 'beijing.jpg', 'jacksonville.jpg', 'bucharest.jpg', 'gainesville.jpg', 'singapore.jpg', 'kiev.jpg', 'sunnyvale.jpg', 'new york.jpg', 'seattle.jpg', 'tel aviv.jpg', 'barcelona.jpg', 'bangalore.jpg', 'madrid.jpg', 'istanbul.jpg', 'manchester.jpg', 'colombo.jpg', 'pune.jpg', 'delhi.jpg', 'houston.jpg', 'miami.jpg', 'karachi.jpg', 'seoul.jpg', 'oakland.jpg', 'bogota.jpg']\n"
     ]
    }
   ],
   "source": [
    "import os                   # module of operating system inseide the python standard library\n",
    "\n",
    "def rename_files():\n",
    "    #1 get the files\n",
    "    file_list = os.listdir(r\"/home/josep/Dropbox/UDACITY/Programming foundations/lesson_1_functions/prank\") # function to list all the files on the directory\n",
    "    print(file_list)\n",
    "    \n",
    "    saved_path = os.getcwd()    # function to get the current working directory\n",
    "    print (\"Current working directory is \" +saved_path)\n",
    "    os.chdir(r\"/home/josep/Dropbox/UDACITY/Programming foundations/lesson_1_functions/prank\") # function to change the working directory\n",
    "\n",
    "    #2 rename the files\n",
    "    for file_name in file_list:\n",
    "        os.rename(file_name,file_name.translate(None,\"01232456789\"))\n",
    "    os.chdir(saved_path)\n",
    "    print (file_list)\n",
    "    \n",
    "rename_files()"
   ]
  }
 ],
 "metadata": {
  "kernelspec": {
   "display_name": "Python 2",
   "language": "python",
   "name": "python2"
  },
  "language_info": {
   "codemirror_mode": {
    "name": "ipython",
    "version": 2
   },
   "file_extension": ".py",
   "mimetype": "text/x-python",
   "name": "python",
   "nbconvert_exporter": "python",
   "pygments_lexer": "ipython2",
   "version": "2.7.11+"
  }
 },
 "nbformat": 4,
 "nbformat_minor": 0
}
