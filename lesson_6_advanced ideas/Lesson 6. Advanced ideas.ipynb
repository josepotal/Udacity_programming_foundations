{
 "cells": [
  {
   "cell_type": "markdown",
   "metadata": {},
   "source": [
    "## advanced ideas in OOP\n",
    "\n",
    "- 'VALID_RATINGS' is a class variable\n",
    "- \"\"\"This class provides...\"\"\" is the documentation of the class"
   ]
  },
  {
   "cell_type": "code",
   "execution_count": 3,
   "metadata": {
    "collapsed": true
   },
   "outputs": [],
   "source": [
    "import webbrowser\n",
    "import media\n",
    "\n",
    "class Movie():\n",
    "    \"\"\" This class provides a way to store movie related information \"\"\" ## this is documentation creation we access to it \"(media.Movie.__doc__)'\n",
    "    \n",
    "    VALID_RATINGS = [\"G\",\"PG\",\"PG-13\",\"R\"]\n",
    "    def __init__(self, movie_title, movie_storyline, poster_image, trailer_youtube):\n",
    "        self.title = movie_title\n",
    "        self.storyline = movie_storyline\n",
    "        self.poster_image_url = poster_image\n",
    "        self.trailer_youtube_url = trailer_youtube\n",
    "        \n",
    "    def show_trailer(self):\n",
    "        webbrowser.open(self.trailer_youtube_url)\n"
   ]
  },
  {
   "cell_type": "code",
   "execution_count": 6,
   "metadata": {
    "collapsed": false
   },
   "outputs": [
    {
     "name": "stdout",
     "output_type": "stream",
     "text": [
      "['G', 'PG', 'PG-13', 'R']\n",
      " This class provides a way to store movie related information \n",
      "Movie\n",
      "The module of this class is media\n"
     ]
    }
   ],
   "source": [
    "print(media.Movie.VALID_RATINGS)   # the class variables\n",
    "\n",
    "print(media.Movie.__doc__)         # prints the documentation \n",
    "\n",
    "print(media.Movie.__name__)        # prints the name of the Class\n",
    "\n",
    "print (\"The module of this class is \" + media.Movie.__module__) "
   ]
  },
  {
   "cell_type": "markdown",
   "metadata": {},
   "source": [
    "## INHERITANCE"
   ]
  },
  {
   "cell_type": "code",
   "execution_count": 11,
   "metadata": {
    "collapsed": false
   },
   "outputs": [
    {
     "name": "stdout",
     "output_type": "stream",
     "text": [
      "Parent Constructor Called\n",
      "Cyrus\n",
      "Last Name - Cyrus\n",
      "Eye Color - Blue\n"
     ]
    }
   ],
   "source": [
    "##Here we are overriding the show_info method in our code --> Method overriding\n",
    "    \n",
    "class Parent():\n",
    "    def __init__(self, last_name, eye_color):\n",
    "        print(\"Parent Constructor Called\")\n",
    "        self.last_name = last_name\n",
    "        self.eye_color = eye_color\n",
    "\n",
    "    def show_info(self):\n",
    "        print(\"Last Name - \"+self.last_name)\n",
    "        print(\"Eye Color - \"+self.eye_color)\n",
    "        \n",
    "##we create an instance of Parent\n",
    "billy_cyrus = Parent(\"Cyrus\", \"Blue\")\n",
    "print(billy_cyrus.last_name)\n",
    "billy_cyrus.show_info()\n"
   ]
  },
  {
   "cell_type": "code",
   "execution_count": 15,
   "metadata": {
    "collapsed": false
   },
   "outputs": [
    {
     "name": "stdout",
     "output_type": "stream",
     "text": [
      "Child Constructor Called\n",
      "Parent Constructor Called\n",
      "Cyrus\n",
      "50\n"
     ]
    }
   ],
   "source": [
    "class Parent():\n",
    "    def __init__(self, last_name, eye_color):\n",
    "        print(\"Parent Constructor Called\")\n",
    "        self.last_name = last_name\n",
    "        self.eye_color = eye_color\n",
    "\n",
    "#we apply inheritance to reuse code 'Child' uses 'Parent' class, so the 'Child' class has the 'Parent' argument\n",
    "class Child(Parent):\n",
    "    def __init__(self, last_name, eye_color, number_of_toys):\n",
    "        print (\"Child Constructor Called\")\n",
    "        Parent.__init__(self,last_name,eye_color)  # we reuse the variables of class 'Parent'\n",
    "        self.number_of_toys = number_of_toys       # we define the new variable\n",
    "      \n",
    "# We create an instance of Child\n",
    "miley_cyrus = Child(\"Cyrus\",\"Blue\",50)\n",
    "\n",
    "# we print the info\n",
    "print(miley_cyrus.last_name)\n",
    "print(miley_cyrus.number_of_toys)"
   ]
  },
  {
   "cell_type": "code",
   "execution_count": 16,
   "metadata": {
    "collapsed": false
   },
   "outputs": [
    {
     "name": "stdout",
     "output_type": "stream",
     "text": [
      "Parent Constructor Called\n",
      "Child Constructor Called\n",
      "Parent Constructor Called\n",
      "Cyrus\n",
      "50\n",
      "Last Name - Cyrus\n",
      "Eye Color - Blue\n",
      "Number of Toys - 50\n"
     ]
    }
   ],
   "source": [
    "##Here we are overriding the show_info method in our code --> Method overriding\n",
    "    \n",
    "class Parent():\n",
    "    def __init__(self, last_name, eye_color):\n",
    "        print(\"Parent Constructor Called\")\n",
    "        self.last_name = last_name\n",
    "        self.eye_color = eye_color\n",
    "\n",
    "    def show_info(self):\n",
    "        print(\"Last Name - \"+self.last_name)\n",
    "        print(\"Eye Color - \"+self.eye_color)\n",
    "\n",
    "billy_cyrus = Parent(\"Cyrus\", \"Blue\")\n",
    "\n",
    "#we apply inheritance to reuse code 'Child' uses 'Parent' class, so the 'Child' class has the 'Parent' attributes\n",
    "class Child(Parent):\n",
    "    def __init__(self, last_name, eye_color, number_of_toys):\n",
    "        print (\"Child Constructor Called\")\n",
    "        Parent.__init__(self,last_name,eye_color)  # we reuse the variables of class 'Parent'\n",
    "        self.number_of_toys = number_of_toys       # we define the new variable\n",
    "\n",
    "    def show_info(self):\n",
    "        print(\"Last Name - \"+self.last_name)\n",
    "        print(\"Eye Color - \"+self.eye_color)\n",
    "        print(\"Number of Toys - \"+str(self.number_of_toys))\n",
    "        \n",
    "#We create an instance of Child\n",
    "miley_cyrus = Child(\"Cyrus\",\"Blue\",50)\n",
    "\n",
    "# we print the info\n",
    "print(miley_cyrus.last_name)\n",
    "print(miley_cyrus.number_of_toys)\n",
    "miley_cyrus.show_info()\n"
   ]
  },
  {
   "cell_type": "markdown",
   "metadata": {},
   "source": [
    "<img src ='Inheritance_movie.png'>"
   ]
  }
 ],
 "metadata": {
  "kernelspec": {
   "display_name": "Python 2",
   "language": "python",
   "name": "python2"
  },
  "language_info": {
   "codemirror_mode": {
    "name": "ipython",
    "version": 2
   },
   "file_extension": ".py",
   "mimetype": "text/x-python",
   "name": "python",
   "nbconvert_exporter": "python",
   "pygments_lexer": "ipython2",
   "version": "2.7.11+"
  }
 },
 "nbformat": 4,
 "nbformat_minor": 0
}
