{
 "cells": [
  {
   "cell_type": "markdown",
   "metadata": {},
   "source": [
    "## Twillio\n",
    "- Isa external library to send sms from a python program\n",
    "- Using Twilio to send sms messages\n",
    "\n",
    "- Twiliio is a external package (it is not in the standard library of python)\n",
    "\n",
    "- 'twilio' is a module or filename, that has a file in it called 'rest',\n",
    "-  which has a class called 'TwilioRestClient'\n",
    "- 'client' is an instance created using the class 'TwilioRestClient'.\n",
    "- Instances can do things that are defined inside the class\n",
    "    - Brad and Angie can take the functions 'forward' or 'right' from the class Turtle\n",
    "    - Client is an object/instance can di things defined inside the class 'TwilioREstClient', like send sms\n",
    "- See the implementation of Twilio in Github ('https://github.com/twilio/twilio-python')"
   ]
  },
  {
   "cell_type": "code",
   "execution_count": null,
   "metadata": {
    "collapsed": true
   },
   "outputs": [],
   "source": []
  },
  {
   "cell_type": "code",
   "execution_count": 2,
   "metadata": {
    "collapsed": false
   },
   "outputs": [
    {
     "ename": "TwilioRestException",
     "evalue": "HTTP 401 error: Authenticate",
     "output_type": "error",
     "traceback": [
      "\u001b[1;31m---------------------------------------------------------------------------\u001b[0m",
      "\u001b[1;31mTwilioRestException\u001b[0m                       Traceback (most recent call last)",
      "\u001b[1;32m<ipython-input-2-700aa39c9a17>\u001b[0m in \u001b[0;36m<module>\u001b[1;34m()\u001b[0m\n\u001b[0;32m     11\u001b[0m     \u001b[0mbody\u001b[0m\u001b[1;33m=\u001b[0m\u001b[1;34m\"Jennifer oh Jennifer\"\u001b[0m\u001b[1;33m,\u001b[0m\u001b[1;33m\u001b[0m\u001b[0m\n\u001b[0;32m     12\u001b[0m     \u001b[0mto\u001b[0m\u001b[1;33m=\u001b[0m\u001b[1;34m\"+34609965614\"\u001b[0m\u001b[1;33m,\u001b[0m    \u001b[1;31m# Replace with your phone number\u001b[0m\u001b[1;33m\u001b[0m\u001b[0m\n\u001b[1;32m---> 13\u001b[1;33m     from_ =\"+34518890128\") # Replace with your Twilio number\n\u001b[0m\u001b[0;32m     14\u001b[0m \u001b[1;32mprint\u001b[0m \u001b[0mmessage\u001b[0m\u001b[1;33m.\u001b[0m\u001b[0msid\u001b[0m\u001b[1;33m\u001b[0m\u001b[0m\n",
      "\u001b[1;32m/home/josep/.local/lib/python2.7/site-packages/twilio/rest/resources/messages.pyc\u001b[0m in \u001b[0;36mcreate\u001b[1;34m(self, from_, **kwargs)\u001b[0m\n\u001b[0;32m    120\u001b[0m         \"\"\"\n\u001b[0;32m    121\u001b[0m         \u001b[0mkwargs\u001b[0m\u001b[1;33m[\u001b[0m\u001b[1;34m\"from\"\u001b[0m\u001b[1;33m]\u001b[0m \u001b[1;33m=\u001b[0m \u001b[0mfrom_\u001b[0m\u001b[1;33m\u001b[0m\u001b[0m\n\u001b[1;32m--> 122\u001b[1;33m         \u001b[1;32mreturn\u001b[0m \u001b[0mself\u001b[0m\u001b[1;33m.\u001b[0m\u001b[0mcreate_instance\u001b[0m\u001b[1;33m(\u001b[0m\u001b[0mkwargs\u001b[0m\u001b[1;33m)\u001b[0m\u001b[1;33m\u001b[0m\u001b[0m\n\u001b[0m\u001b[0;32m    123\u001b[0m \u001b[1;33m\u001b[0m\u001b[0m\n\u001b[0;32m    124\u001b[0m     \u001b[1;33m@\u001b[0m\u001b[0mnormalize_dates\u001b[0m\u001b[1;33m\u001b[0m\u001b[0m\n",
      "\u001b[1;32m/home/josep/.local/lib/python2.7/site-packages/twilio/rest/resources/base.pyc\u001b[0m in \u001b[0;36mcreate_instance\u001b[1;34m(self, body)\u001b[0m\n\u001b[0;32m    363\u001b[0m         \"\"\"\n\u001b[0;32m    364\u001b[0m         resp, instance = self.request(\"POST\", self.uri,\n\u001b[1;32m--> 365\u001b[1;33m                                       data=transform_params(body))\n\u001b[0m\u001b[0;32m    366\u001b[0m \u001b[1;33m\u001b[0m\u001b[0m\n\u001b[0;32m    367\u001b[0m         \u001b[1;32mif\u001b[0m \u001b[0mresp\u001b[0m\u001b[1;33m.\u001b[0m\u001b[0mstatus_code\u001b[0m \u001b[1;32mnot\u001b[0m \u001b[1;32min\u001b[0m \u001b[1;33m(\u001b[0m\u001b[1;36m200\u001b[0m\u001b[1;33m,\u001b[0m \u001b[1;36m201\u001b[0m\u001b[1;33m)\u001b[0m\u001b[1;33m:\u001b[0m\u001b[1;33m\u001b[0m\u001b[0m\n",
      "\u001b[1;32m/home/josep/.local/lib/python2.7/site-packages/twilio/rest/resources/base.pyc\u001b[0m in \u001b[0;36mrequest\u001b[1;34m(self, method, uri, **kwargs)\u001b[0m\n\u001b[0;32m    198\u001b[0m \u001b[1;33m\u001b[0m\u001b[0m\n\u001b[0;32m    199\u001b[0m         \u001b[0mkwargs\u001b[0m\u001b[1;33m[\u001b[0m\u001b[1;34m'use_json_extension'\u001b[0m\u001b[1;33m]\u001b[0m \u001b[1;33m=\u001b[0m \u001b[0mself\u001b[0m\u001b[1;33m.\u001b[0m\u001b[0muse_json_extension\u001b[0m\u001b[1;33m\u001b[0m\u001b[0m\n\u001b[1;32m--> 200\u001b[1;33m         \u001b[0mresp\u001b[0m \u001b[1;33m=\u001b[0m \u001b[0mmake_twilio_request\u001b[0m\u001b[1;33m(\u001b[0m\u001b[0mmethod\u001b[0m\u001b[1;33m,\u001b[0m \u001b[0muri\u001b[0m\u001b[1;33m,\u001b[0m \u001b[0mauth\u001b[0m\u001b[1;33m=\u001b[0m\u001b[0mself\u001b[0m\u001b[1;33m.\u001b[0m\u001b[0mauth\u001b[0m\u001b[1;33m,\u001b[0m \u001b[1;33m**\u001b[0m\u001b[0mkwargs\u001b[0m\u001b[1;33m)\u001b[0m\u001b[1;33m\u001b[0m\u001b[0m\n\u001b[0m\u001b[0;32m    201\u001b[0m \u001b[1;33m\u001b[0m\u001b[0m\n\u001b[0;32m    202\u001b[0m         \u001b[0mlogger\u001b[0m\u001b[1;33m.\u001b[0m\u001b[0mdebug\u001b[0m\u001b[1;33m(\u001b[0m\u001b[0mresp\u001b[0m\u001b[1;33m.\u001b[0m\u001b[0mcontent\u001b[0m\u001b[1;33m)\u001b[0m\u001b[1;33m\u001b[0m\u001b[0m\n",
      "\u001b[1;32m/home/josep/.local/lib/python2.7/site-packages/twilio/rest/resources/base.pyc\u001b[0m in \u001b[0;36mmake_twilio_request\u001b[1;34m(method, uri, **kwargs)\u001b[0m\n\u001b[0;32m    162\u001b[0m \u001b[1;33m\u001b[0m\u001b[0m\n\u001b[0;32m    163\u001b[0m         raise TwilioRestException(status=resp.status_code, method=method,\n\u001b[1;32m--> 164\u001b[1;33m                                   uri=resp.url, msg=message, code=code)\n\u001b[0m\u001b[0;32m    165\u001b[0m \u001b[1;33m\u001b[0m\u001b[0m\n\u001b[0;32m    166\u001b[0m     \u001b[1;32mreturn\u001b[0m \u001b[0mresp\u001b[0m\u001b[1;33m\u001b[0m\u001b[0m\n",
      "\u001b[1;31mTwilioRestException\u001b[0m: HTTP 401 error: Authenticate"
     ]
    }
   ],
   "source": [
    "# First we download Twilio --> pip install twilio in the Terminal\n",
    "\n",
    "from twilio.rest import TwilioRestClient\n",
    " \n",
    "# Your Account Sid and Auth Token from twilio.com/user/account\n",
    "account_sid = \"AC4f5219c6d3c198ec3e64827017c5c602\"\n",
    "auth_token  = \"{{4aa88befb12fb77985a98b1cb33b4da9}}\"\n",
    "client = TwilioRestClient(account_sid, auth_token)  #'client' is an instance\n",
    " \n",
    "message = client.messages.create(\n",
    "    body=\"Jennifer oh Jennifer\",\n",
    "    to=\"+34609965614\",    # Replace with your phone number\n",
    "    from_ =\"+34518890128\") # Replace with your Twilio number\n",
    "print message.sid"
   ]
  }
 ],
 "metadata": {
  "kernelspec": {
   "display_name": "Python 2",
   "language": "python",
   "name": "python2"
  },
  "language_info": {
   "codemirror_mode": {
    "name": "ipython",
    "version": 2
   },
   "file_extension": ".py",
   "mimetype": "text/x-python",
   "name": "python",
   "nbconvert_exporter": "python",
   "pygments_lexer": "ipython2",
   "version": "2.7.11+"
  }
 },
 "nbformat": 4,
 "nbformat_minor": 0
}
